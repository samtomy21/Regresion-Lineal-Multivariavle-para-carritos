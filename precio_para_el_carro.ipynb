{
  "nbformat": 4,
  "nbformat_minor": 0,
  "metadata": {
    "colab": {
      "name": "precio para el carro",
      "provenance": [],
      "collapsed_sections": [],
      "include_colab_link": true
    },
    "kernelspec": {
      "name": "python3",
      "display_name": "Python 3"
    },
    "language_info": {
      "name": "python"
    }
  },
  "cells": [
    {
      "cell_type": "markdown",
      "metadata": {
        "id": "view-in-github",
        "colab_type": "text"
      },
      "source": [
        "<a href=\"https://colab.research.google.com/github/samtomy21/Regresion-Lineal-Multivariavle-para-carritos/blob/main/precio_para_el_carro.ipynb\" target=\"_parent\"><img src=\"https://colab.research.google.com/assets/colab-badge.svg\" alt=\"Open In Colab\"/></a>"
      ]
    },
    {
      "cell_type": "markdown",
      "source": [
        "#Lectura y limpieza del data"
      ],
      "metadata": {
        "id": "jyfBt9Ol26BJ"
      }
    },
    {
      "cell_type": "code",
      "execution_count": 2,
      "metadata": {
        "id": "epJCnJCeH7QY"
      },
      "outputs": [],
      "source": [
        "import pandas as pd\n",
        "data = pd.read_csv(\"cars_dataset.csv\")"
      ]
    },
    {
      "cell_type": "code",
      "source": [
        "data.head(5)"
      ],
      "metadata": {
        "colab": {
          "base_uri": "https://localhost:8080/",
          "height": 206
        },
        "id": "xUhjF3e5Ip-R",
        "outputId": "415657ad-ee4e-427a-d56c-285ef4837cc5"
      },
      "execution_count": 3,
      "outputs": [
        {
          "output_type": "execute_result",
          "data": {
            "text/plain": [
              "                           name  year  selling_price  km_driven    fuel  \\\n",
              "0        Maruti Swift Dzire VDI  2014         450000     145500  Diesel   \n",
              "1  Skoda Rapid 1.5 TDI Ambition  2014         370000     120000  Diesel   \n",
              "2      Honda City 2017-2020 EXi  2006         158000     140000  Petrol   \n",
              "3     Hyundai i20 Sportz Diesel  2010         225000     127000  Diesel   \n",
              "4        Maruti Swift VXI BSIII  2007         130000     120000  Petrol   \n",
              "\n",
              "  seller_type transmission         owner     mileage   engine   max_power  \\\n",
              "0  Individual       Manual   First Owner   23.4 kmpl  1248 CC      74 bhp   \n",
              "1  Individual       Manual  Second Owner  21.14 kmpl  1498 CC  103.52 bhp   \n",
              "2  Individual       Manual   Third Owner   17.7 kmpl  1497 CC      78 bhp   \n",
              "3  Individual       Manual   First Owner   23.0 kmpl  1396 CC      90 bhp   \n",
              "4  Individual       Manual   First Owner   16.1 kmpl  1298 CC    88.2 bhp   \n",
              "\n",
              "                     torque  seats  \n",
              "0            190Nm@ 2000rpm    5.0  \n",
              "1       250Nm@ 1500-2500rpm    5.0  \n",
              "2     12.7@ 2,700(kgm@ rpm)    5.0  \n",
              "3  22.4 kgm at 1750-2750rpm    5.0  \n",
              "4     11.5@ 4,500(kgm@ rpm)    5.0  "
            ],
            "text/html": [
              "\n",
              "  <div id=\"df-3545ba40-db88-467f-8c3a-7de2e59ec217\">\n",
              "    <div class=\"colab-df-container\">\n",
              "      <div>\n",
              "<style scoped>\n",
              "    .dataframe tbody tr th:only-of-type {\n",
              "        vertical-align: middle;\n",
              "    }\n",
              "\n",
              "    .dataframe tbody tr th {\n",
              "        vertical-align: top;\n",
              "    }\n",
              "\n",
              "    .dataframe thead th {\n",
              "        text-align: right;\n",
              "    }\n",
              "</style>\n",
              "<table border=\"1\" class=\"dataframe\">\n",
              "  <thead>\n",
              "    <tr style=\"text-align: right;\">\n",
              "      <th></th>\n",
              "      <th>name</th>\n",
              "      <th>year</th>\n",
              "      <th>selling_price</th>\n",
              "      <th>km_driven</th>\n",
              "      <th>fuel</th>\n",
              "      <th>seller_type</th>\n",
              "      <th>transmission</th>\n",
              "      <th>owner</th>\n",
              "      <th>mileage</th>\n",
              "      <th>engine</th>\n",
              "      <th>max_power</th>\n",
              "      <th>torque</th>\n",
              "      <th>seats</th>\n",
              "    </tr>\n",
              "  </thead>\n",
              "  <tbody>\n",
              "    <tr>\n",
              "      <th>0</th>\n",
              "      <td>Maruti Swift Dzire VDI</td>\n",
              "      <td>2014</td>\n",
              "      <td>450000</td>\n",
              "      <td>145500</td>\n",
              "      <td>Diesel</td>\n",
              "      <td>Individual</td>\n",
              "      <td>Manual</td>\n",
              "      <td>First Owner</td>\n",
              "      <td>23.4 kmpl</td>\n",
              "      <td>1248 CC</td>\n",
              "      <td>74 bhp</td>\n",
              "      <td>190Nm@ 2000rpm</td>\n",
              "      <td>5.0</td>\n",
              "    </tr>\n",
              "    <tr>\n",
              "      <th>1</th>\n",
              "      <td>Skoda Rapid 1.5 TDI Ambition</td>\n",
              "      <td>2014</td>\n",
              "      <td>370000</td>\n",
              "      <td>120000</td>\n",
              "      <td>Diesel</td>\n",
              "      <td>Individual</td>\n",
              "      <td>Manual</td>\n",
              "      <td>Second Owner</td>\n",
              "      <td>21.14 kmpl</td>\n",
              "      <td>1498 CC</td>\n",
              "      <td>103.52 bhp</td>\n",
              "      <td>250Nm@ 1500-2500rpm</td>\n",
              "      <td>5.0</td>\n",
              "    </tr>\n",
              "    <tr>\n",
              "      <th>2</th>\n",
              "      <td>Honda City 2017-2020 EXi</td>\n",
              "      <td>2006</td>\n",
              "      <td>158000</td>\n",
              "      <td>140000</td>\n",
              "      <td>Petrol</td>\n",
              "      <td>Individual</td>\n",
              "      <td>Manual</td>\n",
              "      <td>Third Owner</td>\n",
              "      <td>17.7 kmpl</td>\n",
              "      <td>1497 CC</td>\n",
              "      <td>78 bhp</td>\n",
              "      <td>12.7@ 2,700(kgm@ rpm)</td>\n",
              "      <td>5.0</td>\n",
              "    </tr>\n",
              "    <tr>\n",
              "      <th>3</th>\n",
              "      <td>Hyundai i20 Sportz Diesel</td>\n",
              "      <td>2010</td>\n",
              "      <td>225000</td>\n",
              "      <td>127000</td>\n",
              "      <td>Diesel</td>\n",
              "      <td>Individual</td>\n",
              "      <td>Manual</td>\n",
              "      <td>First Owner</td>\n",
              "      <td>23.0 kmpl</td>\n",
              "      <td>1396 CC</td>\n",
              "      <td>90 bhp</td>\n",
              "      <td>22.4 kgm at 1750-2750rpm</td>\n",
              "      <td>5.0</td>\n",
              "    </tr>\n",
              "    <tr>\n",
              "      <th>4</th>\n",
              "      <td>Maruti Swift VXI BSIII</td>\n",
              "      <td>2007</td>\n",
              "      <td>130000</td>\n",
              "      <td>120000</td>\n",
              "      <td>Petrol</td>\n",
              "      <td>Individual</td>\n",
              "      <td>Manual</td>\n",
              "      <td>First Owner</td>\n",
              "      <td>16.1 kmpl</td>\n",
              "      <td>1298 CC</td>\n",
              "      <td>88.2 bhp</td>\n",
              "      <td>11.5@ 4,500(kgm@ rpm)</td>\n",
              "      <td>5.0</td>\n",
              "    </tr>\n",
              "  </tbody>\n",
              "</table>\n",
              "</div>\n",
              "      <button class=\"colab-df-convert\" onclick=\"convertToInteractive('df-3545ba40-db88-467f-8c3a-7de2e59ec217')\"\n",
              "              title=\"Convert this dataframe to an interactive table.\"\n",
              "              style=\"display:none;\">\n",
              "        \n",
              "  <svg xmlns=\"http://www.w3.org/2000/svg\" height=\"24px\"viewBox=\"0 0 24 24\"\n",
              "       width=\"24px\">\n",
              "    <path d=\"M0 0h24v24H0V0z\" fill=\"none\"/>\n",
              "    <path d=\"M18.56 5.44l.94 2.06.94-2.06 2.06-.94-2.06-.94-.94-2.06-.94 2.06-2.06.94zm-11 1L8.5 8.5l.94-2.06 2.06-.94-2.06-.94L8.5 2.5l-.94 2.06-2.06.94zm10 10l.94 2.06.94-2.06 2.06-.94-2.06-.94-.94-2.06-.94 2.06-2.06.94z\"/><path d=\"M17.41 7.96l-1.37-1.37c-.4-.4-.92-.59-1.43-.59-.52 0-1.04.2-1.43.59L10.3 9.45l-7.72 7.72c-.78.78-.78 2.05 0 2.83L4 21.41c.39.39.9.59 1.41.59.51 0 1.02-.2 1.41-.59l7.78-7.78 2.81-2.81c.8-.78.8-2.07 0-2.86zM5.41 20L4 18.59l7.72-7.72 1.47 1.35L5.41 20z\"/>\n",
              "  </svg>\n",
              "      </button>\n",
              "      \n",
              "  <style>\n",
              "    .colab-df-container {\n",
              "      display:flex;\n",
              "      flex-wrap:wrap;\n",
              "      gap: 12px;\n",
              "    }\n",
              "\n",
              "    .colab-df-convert {\n",
              "      background-color: #E8F0FE;\n",
              "      border: none;\n",
              "      border-radius: 50%;\n",
              "      cursor: pointer;\n",
              "      display: none;\n",
              "      fill: #1967D2;\n",
              "      height: 32px;\n",
              "      padding: 0 0 0 0;\n",
              "      width: 32px;\n",
              "    }\n",
              "\n",
              "    .colab-df-convert:hover {\n",
              "      background-color: #E2EBFA;\n",
              "      box-shadow: 0px 1px 2px rgba(60, 64, 67, 0.3), 0px 1px 3px 1px rgba(60, 64, 67, 0.15);\n",
              "      fill: #174EA6;\n",
              "    }\n",
              "\n",
              "    [theme=dark] .colab-df-convert {\n",
              "      background-color: #3B4455;\n",
              "      fill: #D2E3FC;\n",
              "    }\n",
              "\n",
              "    [theme=dark] .colab-df-convert:hover {\n",
              "      background-color: #434B5C;\n",
              "      box-shadow: 0px 1px 3px 1px rgba(0, 0, 0, 0.15);\n",
              "      filter: drop-shadow(0px 1px 2px rgba(0, 0, 0, 0.3));\n",
              "      fill: #FFFFFF;\n",
              "    }\n",
              "  </style>\n",
              "\n",
              "      <script>\n",
              "        const buttonEl =\n",
              "          document.querySelector('#df-3545ba40-db88-467f-8c3a-7de2e59ec217 button.colab-df-convert');\n",
              "        buttonEl.style.display =\n",
              "          google.colab.kernel.accessAllowed ? 'block' : 'none';\n",
              "\n",
              "        async function convertToInteractive(key) {\n",
              "          const element = document.querySelector('#df-3545ba40-db88-467f-8c3a-7de2e59ec217');\n",
              "          const dataTable =\n",
              "            await google.colab.kernel.invokeFunction('convertToInteractive',\n",
              "                                                     [key], {});\n",
              "          if (!dataTable) return;\n",
              "\n",
              "          const docLinkHtml = 'Like what you see? Visit the ' +\n",
              "            '<a target=\"_blank\" href=https://colab.research.google.com/notebooks/data_table.ipynb>data table notebook</a>'\n",
              "            + ' to learn more about interactive tables.';\n",
              "          element.innerHTML = '';\n",
              "          dataTable['output_type'] = 'display_data';\n",
              "          await google.colab.output.renderOutput(dataTable, element);\n",
              "          const docLink = document.createElement('div');\n",
              "          docLink.innerHTML = docLinkHtml;\n",
              "          element.appendChild(docLink);\n",
              "        }\n",
              "      </script>\n",
              "    </div>\n",
              "  </div>\n",
              "  "
            ]
          },
          "metadata": {},
          "execution_count": 3
        }
      ]
    },
    {
      "cell_type": "markdown",
      "source": [
        "#Analisis Y limpieza de nuestro data"
      ],
      "metadata": {
        "id": "OgDVbZQrQPWQ"
      }
    },
    {
      "cell_type": "code",
      "source": [
        "data.info()"
      ],
      "metadata": {
        "colab": {
          "base_uri": "https://localhost:8080/"
        },
        "id": "qQoYkjxRJMux",
        "outputId": "c8894f85-58af-4be4-ecea-77828f114101"
      },
      "execution_count": 5,
      "outputs": [
        {
          "output_type": "stream",
          "name": "stdout",
          "text": [
            "<class 'pandas.core.frame.DataFrame'>\n",
            "RangeIndex: 8128 entries, 0 to 8127\n",
            "Data columns (total 13 columns):\n",
            " #   Column         Non-Null Count  Dtype  \n",
            "---  ------         --------------  -----  \n",
            " 0   name           8128 non-null   object \n",
            " 1   year           8128 non-null   int64  \n",
            " 2   selling_price  8128 non-null   int64  \n",
            " 3   km_driven      8128 non-null   int64  \n",
            " 4   fuel           8128 non-null   object \n",
            " 5   seller_type    8128 non-null   object \n",
            " 6   transmission   8128 non-null   object \n",
            " 7   owner          8128 non-null   object \n",
            " 8   mileage        7907 non-null   object \n",
            " 9   engine         7907 non-null   object \n",
            " 10  max_power      7913 non-null   object \n",
            " 11  torque         7906 non-null   object \n",
            " 12  seats          7907 non-null   float64\n",
            "dtypes: float64(1), int64(3), object(9)\n",
            "memory usage: 825.6+ KB\n"
          ]
        }
      ]
    },
    {
      "cell_type": "markdown",
      "source": [
        "## ELIMINAR LOS NaN"
      ],
      "metadata": {
        "id": "RE6ueYZ5Z6lW"
      }
    },
    {
      "cell_type": "code",
      "source": [
        "data.isna().sum().sort_values()"
      ],
      "metadata": {
        "colab": {
          "base_uri": "https://localhost:8080/"
        },
        "id": "ne-MBxbJDBD_",
        "outputId": "f50ae95c-c566-4049-f2da-ae4c55e556fe"
      },
      "execution_count": 6,
      "outputs": [
        {
          "output_type": "execute_result",
          "data": {
            "text/plain": [
              "name               0\n",
              "year               0\n",
              "selling_price      0\n",
              "km_driven          0\n",
              "fuel               0\n",
              "seller_type        0\n",
              "transmission       0\n",
              "owner              0\n",
              "max_power        215\n",
              "mileage          221\n",
              "engine           221\n",
              "seats            221\n",
              "torque           222\n",
              "dtype: int64"
            ]
          },
          "metadata": {},
          "execution_count": 6
        }
      ]
    },
    {
      "cell_type": "code",
      "source": [
        "data = data. dropna() "
      ],
      "metadata": {
        "id": "GEMgd1UOM6WO"
      },
      "execution_count": 7,
      "outputs": []
    },
    {
      "cell_type": "code",
      "source": [
        "data.isna().sum().sort_values()"
      ],
      "metadata": {
        "colab": {
          "base_uri": "https://localhost:8080/"
        },
        "id": "2hwQmxbTNUSO",
        "outputId": "6ab6696e-024f-4c48-d09b-b15a0ccc1093"
      },
      "execution_count": 8,
      "outputs": [
        {
          "output_type": "execute_result",
          "data": {
            "text/plain": [
              "name             0\n",
              "year             0\n",
              "selling_price    0\n",
              "km_driven        0\n",
              "fuel             0\n",
              "seller_type      0\n",
              "transmission     0\n",
              "owner            0\n",
              "mileage          0\n",
              "engine           0\n",
              "max_power        0\n",
              "torque           0\n",
              "seats            0\n",
              "dtype: int64"
            ]
          },
          "metadata": {},
          "execution_count": 8
        }
      ]
    },
    {
      "cell_type": "code",
      "source": [
        "data.shape"
      ],
      "metadata": {
        "colab": {
          "base_uri": "https://localhost:8080/"
        },
        "id": "YJnhPjy4NZJH",
        "outputId": "f5d44925-50d1-444a-9de0-a677e3555ffa"
      },
      "execution_count": 9,
      "outputs": [
        {
          "output_type": "execute_result",
          "data": {
            "text/plain": [
              "(7906, 13)"
            ]
          },
          "metadata": {},
          "execution_count": 9
        }
      ]
    },
    {
      "cell_type": "markdown",
      "source": [
        "## CONVERTIR LOS VALORES OBJECT A VALORES NUMERICOS"
      ],
      "metadata": {
        "id": "wbMw-wmbaFpB"
      }
    },
    {
      "cell_type": "code",
      "source": [
        "from sklearn.preprocessing import LabelEncoder\n",
        "labelencoder = LabelEncoder()\n",
        "c = [0,4,5,6,7,8,9,10,11]\n",
        "\n",
        "for i in c:\n",
        "  data.iloc[:, i] = labelencoder.fit_transform(data.iloc[:,i])"
      ],
      "metadata": {
        "id": "xWU2_fqiJRoA"
      },
      "execution_count": 10,
      "outputs": []
    },
    {
      "cell_type": "code",
      "source": [
        "data.info()"
      ],
      "metadata": {
        "colab": {
          "base_uri": "https://localhost:8080/"
        },
        "id": "gUwnOq_ZAdGg",
        "outputId": "0d91aae2-5f74-4e72-9a54-ead99a03d2f0"
      },
      "execution_count": 11,
      "outputs": [
        {
          "output_type": "stream",
          "name": "stdout",
          "text": [
            "<class 'pandas.core.frame.DataFrame'>\n",
            "Int64Index: 7906 entries, 0 to 8127\n",
            "Data columns (total 13 columns):\n",
            " #   Column         Non-Null Count  Dtype  \n",
            "---  ------         --------------  -----  \n",
            " 0   name           7906 non-null   int64  \n",
            " 1   year           7906 non-null   int64  \n",
            " 2   selling_price  7906 non-null   int64  \n",
            " 3   km_driven      7906 non-null   int64  \n",
            " 4   fuel           7906 non-null   int64  \n",
            " 5   seller_type    7906 non-null   int64  \n",
            " 6   transmission   7906 non-null   int64  \n",
            " 7   owner          7906 non-null   int64  \n",
            " 8   mileage        7906 non-null   int64  \n",
            " 9   engine         7906 non-null   int64  \n",
            " 10  max_power      7906 non-null   int64  \n",
            " 11  torque         7906 non-null   int64  \n",
            " 12  seats          7906 non-null   float64\n",
            "dtypes: float64(1), int64(12)\n",
            "memory usage: 864.7 KB\n"
          ]
        }
      ]
    },
    {
      "cell_type": "code",
      "source": [
        "data"
      ],
      "metadata": {
        "colab": {
          "base_uri": "https://localhost:8080/",
          "height": 424
        },
        "id": "AHioRBXAPcQh",
        "outputId": "ba6feead-2be2-4357-999f-5ab1ae86a53d"
      },
      "execution_count": 12,
      "outputs": [
        {
          "output_type": "execute_result",
          "data": {
            "text/plain": [
              "      name  year  selling_price  km_driven  fuel  seller_type  transmission  \\\n",
              "0     1249  2014         450000     145500     1            1             1   \n",
              "1     1546  2014         370000     120000     1            1             1   \n",
              "2      375  2006         158000     140000     3            1             1   \n",
              "3      743  2010         225000     127000     1            1             1   \n",
              "4     1290  2007         130000     120000     3            1             1   \n",
              "...    ...   ...            ...        ...   ...          ...           ...   \n",
              "8123   733  2013         320000     110000     3            1             1   \n",
              "8124   618  2007         135000     119000     1            1             1   \n",
              "8125  1261  2009         382000     120000     1            1             1   \n",
              "8126  1633  2013         290000      25000     1            1             1   \n",
              "8127  1633  2013         290000      25000     1            1             1   \n",
              "\n",
              "      owner  mileage  engine  max_power  torque  seats  \n",
              "0         0      335      13        242     178    5.0  \n",
              "1         2      284      36         13     260    5.0  \n",
              "2         4      180      35        251      66    5.0  \n",
              "3         0      327      24        295     224    5.0  \n",
              "4         0      136      14        286      21    5.0  \n",
              "...     ...      ...     ...        ...     ...    ...  \n",
              "8123      0      202      10        265      37    5.0  \n",
              "8124      1      154      32         28     250    5.0  \n",
              "8125      0      222      13        239     178    5.0  \n",
              "8126      0      337      24        230     106    5.0  \n",
              "8127      0      337      24        230     106    5.0  \n",
              "\n",
              "[7906 rows x 13 columns]"
            ],
            "text/html": [
              "\n",
              "  <div id=\"df-15089249-2faa-42f9-8bd6-856d58673461\">\n",
              "    <div class=\"colab-df-container\">\n",
              "      <div>\n",
              "<style scoped>\n",
              "    .dataframe tbody tr th:only-of-type {\n",
              "        vertical-align: middle;\n",
              "    }\n",
              "\n",
              "    .dataframe tbody tr th {\n",
              "        vertical-align: top;\n",
              "    }\n",
              "\n",
              "    .dataframe thead th {\n",
              "        text-align: right;\n",
              "    }\n",
              "</style>\n",
              "<table border=\"1\" class=\"dataframe\">\n",
              "  <thead>\n",
              "    <tr style=\"text-align: right;\">\n",
              "      <th></th>\n",
              "      <th>name</th>\n",
              "      <th>year</th>\n",
              "      <th>selling_price</th>\n",
              "      <th>km_driven</th>\n",
              "      <th>fuel</th>\n",
              "      <th>seller_type</th>\n",
              "      <th>transmission</th>\n",
              "      <th>owner</th>\n",
              "      <th>mileage</th>\n",
              "      <th>engine</th>\n",
              "      <th>max_power</th>\n",
              "      <th>torque</th>\n",
              "      <th>seats</th>\n",
              "    </tr>\n",
              "  </thead>\n",
              "  <tbody>\n",
              "    <tr>\n",
              "      <th>0</th>\n",
              "      <td>1249</td>\n",
              "      <td>2014</td>\n",
              "      <td>450000</td>\n",
              "      <td>145500</td>\n",
              "      <td>1</td>\n",
              "      <td>1</td>\n",
              "      <td>1</td>\n",
              "      <td>0</td>\n",
              "      <td>335</td>\n",
              "      <td>13</td>\n",
              "      <td>242</td>\n",
              "      <td>178</td>\n",
              "      <td>5.0</td>\n",
              "    </tr>\n",
              "    <tr>\n",
              "      <th>1</th>\n",
              "      <td>1546</td>\n",
              "      <td>2014</td>\n",
              "      <td>370000</td>\n",
              "      <td>120000</td>\n",
              "      <td>1</td>\n",
              "      <td>1</td>\n",
              "      <td>1</td>\n",
              "      <td>2</td>\n",
              "      <td>284</td>\n",
              "      <td>36</td>\n",
              "      <td>13</td>\n",
              "      <td>260</td>\n",
              "      <td>5.0</td>\n",
              "    </tr>\n",
              "    <tr>\n",
              "      <th>2</th>\n",
              "      <td>375</td>\n",
              "      <td>2006</td>\n",
              "      <td>158000</td>\n",
              "      <td>140000</td>\n",
              "      <td>3</td>\n",
              "      <td>1</td>\n",
              "      <td>1</td>\n",
              "      <td>4</td>\n",
              "      <td>180</td>\n",
              "      <td>35</td>\n",
              "      <td>251</td>\n",
              "      <td>66</td>\n",
              "      <td>5.0</td>\n",
              "    </tr>\n",
              "    <tr>\n",
              "      <th>3</th>\n",
              "      <td>743</td>\n",
              "      <td>2010</td>\n",
              "      <td>225000</td>\n",
              "      <td>127000</td>\n",
              "      <td>1</td>\n",
              "      <td>1</td>\n",
              "      <td>1</td>\n",
              "      <td>0</td>\n",
              "      <td>327</td>\n",
              "      <td>24</td>\n",
              "      <td>295</td>\n",
              "      <td>224</td>\n",
              "      <td>5.0</td>\n",
              "    </tr>\n",
              "    <tr>\n",
              "      <th>4</th>\n",
              "      <td>1290</td>\n",
              "      <td>2007</td>\n",
              "      <td>130000</td>\n",
              "      <td>120000</td>\n",
              "      <td>3</td>\n",
              "      <td>1</td>\n",
              "      <td>1</td>\n",
              "      <td>0</td>\n",
              "      <td>136</td>\n",
              "      <td>14</td>\n",
              "      <td>286</td>\n",
              "      <td>21</td>\n",
              "      <td>5.0</td>\n",
              "    </tr>\n",
              "    <tr>\n",
              "      <th>...</th>\n",
              "      <td>...</td>\n",
              "      <td>...</td>\n",
              "      <td>...</td>\n",
              "      <td>...</td>\n",
              "      <td>...</td>\n",
              "      <td>...</td>\n",
              "      <td>...</td>\n",
              "      <td>...</td>\n",
              "      <td>...</td>\n",
              "      <td>...</td>\n",
              "      <td>...</td>\n",
              "      <td>...</td>\n",
              "      <td>...</td>\n",
              "    </tr>\n",
              "    <tr>\n",
              "      <th>8123</th>\n",
              "      <td>733</td>\n",
              "      <td>2013</td>\n",
              "      <td>320000</td>\n",
              "      <td>110000</td>\n",
              "      <td>3</td>\n",
              "      <td>1</td>\n",
              "      <td>1</td>\n",
              "      <td>0</td>\n",
              "      <td>202</td>\n",
              "      <td>10</td>\n",
              "      <td>265</td>\n",
              "      <td>37</td>\n",
              "      <td>5.0</td>\n",
              "    </tr>\n",
              "    <tr>\n",
              "      <th>8124</th>\n",
              "      <td>618</td>\n",
              "      <td>2007</td>\n",
              "      <td>135000</td>\n",
              "      <td>119000</td>\n",
              "      <td>1</td>\n",
              "      <td>1</td>\n",
              "      <td>1</td>\n",
              "      <td>1</td>\n",
              "      <td>154</td>\n",
              "      <td>32</td>\n",
              "      <td>28</td>\n",
              "      <td>250</td>\n",
              "      <td>5.0</td>\n",
              "    </tr>\n",
              "    <tr>\n",
              "      <th>8125</th>\n",
              "      <td>1261</td>\n",
              "      <td>2009</td>\n",
              "      <td>382000</td>\n",
              "      <td>120000</td>\n",
              "      <td>1</td>\n",
              "      <td>1</td>\n",
              "      <td>1</td>\n",
              "      <td>0</td>\n",
              "      <td>222</td>\n",
              "      <td>13</td>\n",
              "      <td>239</td>\n",
              "      <td>178</td>\n",
              "      <td>5.0</td>\n",
              "    </tr>\n",
              "    <tr>\n",
              "      <th>8126</th>\n",
              "      <td>1633</td>\n",
              "      <td>2013</td>\n",
              "      <td>290000</td>\n",
              "      <td>25000</td>\n",
              "      <td>1</td>\n",
              "      <td>1</td>\n",
              "      <td>1</td>\n",
              "      <td>0</td>\n",
              "      <td>337</td>\n",
              "      <td>24</td>\n",
              "      <td>230</td>\n",
              "      <td>106</td>\n",
              "      <td>5.0</td>\n",
              "    </tr>\n",
              "    <tr>\n",
              "      <th>8127</th>\n",
              "      <td>1633</td>\n",
              "      <td>2013</td>\n",
              "      <td>290000</td>\n",
              "      <td>25000</td>\n",
              "      <td>1</td>\n",
              "      <td>1</td>\n",
              "      <td>1</td>\n",
              "      <td>0</td>\n",
              "      <td>337</td>\n",
              "      <td>24</td>\n",
              "      <td>230</td>\n",
              "      <td>106</td>\n",
              "      <td>5.0</td>\n",
              "    </tr>\n",
              "  </tbody>\n",
              "</table>\n",
              "<p>7906 rows × 13 columns</p>\n",
              "</div>\n",
              "      <button class=\"colab-df-convert\" onclick=\"convertToInteractive('df-15089249-2faa-42f9-8bd6-856d58673461')\"\n",
              "              title=\"Convert this dataframe to an interactive table.\"\n",
              "              style=\"display:none;\">\n",
              "        \n",
              "  <svg xmlns=\"http://www.w3.org/2000/svg\" height=\"24px\"viewBox=\"0 0 24 24\"\n",
              "       width=\"24px\">\n",
              "    <path d=\"M0 0h24v24H0V0z\" fill=\"none\"/>\n",
              "    <path d=\"M18.56 5.44l.94 2.06.94-2.06 2.06-.94-2.06-.94-.94-2.06-.94 2.06-2.06.94zm-11 1L8.5 8.5l.94-2.06 2.06-.94-2.06-.94L8.5 2.5l-.94 2.06-2.06.94zm10 10l.94 2.06.94-2.06 2.06-.94-2.06-.94-.94-2.06-.94 2.06-2.06.94z\"/><path d=\"M17.41 7.96l-1.37-1.37c-.4-.4-.92-.59-1.43-.59-.52 0-1.04.2-1.43.59L10.3 9.45l-7.72 7.72c-.78.78-.78 2.05 0 2.83L4 21.41c.39.39.9.59 1.41.59.51 0 1.02-.2 1.41-.59l7.78-7.78 2.81-2.81c.8-.78.8-2.07 0-2.86zM5.41 20L4 18.59l7.72-7.72 1.47 1.35L5.41 20z\"/>\n",
              "  </svg>\n",
              "      </button>\n",
              "      \n",
              "  <style>\n",
              "    .colab-df-container {\n",
              "      display:flex;\n",
              "      flex-wrap:wrap;\n",
              "      gap: 12px;\n",
              "    }\n",
              "\n",
              "    .colab-df-convert {\n",
              "      background-color: #E8F0FE;\n",
              "      border: none;\n",
              "      border-radius: 50%;\n",
              "      cursor: pointer;\n",
              "      display: none;\n",
              "      fill: #1967D2;\n",
              "      height: 32px;\n",
              "      padding: 0 0 0 0;\n",
              "      width: 32px;\n",
              "    }\n",
              "\n",
              "    .colab-df-convert:hover {\n",
              "      background-color: #E2EBFA;\n",
              "      box-shadow: 0px 1px 2px rgba(60, 64, 67, 0.3), 0px 1px 3px 1px rgba(60, 64, 67, 0.15);\n",
              "      fill: #174EA6;\n",
              "    }\n",
              "\n",
              "    [theme=dark] .colab-df-convert {\n",
              "      background-color: #3B4455;\n",
              "      fill: #D2E3FC;\n",
              "    }\n",
              "\n",
              "    [theme=dark] .colab-df-convert:hover {\n",
              "      background-color: #434B5C;\n",
              "      box-shadow: 0px 1px 3px 1px rgba(0, 0, 0, 0.15);\n",
              "      filter: drop-shadow(0px 1px 2px rgba(0, 0, 0, 0.3));\n",
              "      fill: #FFFFFF;\n",
              "    }\n",
              "  </style>\n",
              "\n",
              "      <script>\n",
              "        const buttonEl =\n",
              "          document.querySelector('#df-15089249-2faa-42f9-8bd6-856d58673461 button.colab-df-convert');\n",
              "        buttonEl.style.display =\n",
              "          google.colab.kernel.accessAllowed ? 'block' : 'none';\n",
              "\n",
              "        async function convertToInteractive(key) {\n",
              "          const element = document.querySelector('#df-15089249-2faa-42f9-8bd6-856d58673461');\n",
              "          const dataTable =\n",
              "            await google.colab.kernel.invokeFunction('convertToInteractive',\n",
              "                                                     [key], {});\n",
              "          if (!dataTable) return;\n",
              "\n",
              "          const docLinkHtml = 'Like what you see? Visit the ' +\n",
              "            '<a target=\"_blank\" href=https://colab.research.google.com/notebooks/data_table.ipynb>data table notebook</a>'\n",
              "            + ' to learn more about interactive tables.';\n",
              "          element.innerHTML = '';\n",
              "          dataTable['output_type'] = 'display_data';\n",
              "          await google.colab.output.renderOutput(dataTable, element);\n",
              "          const docLink = document.createElement('div');\n",
              "          docLink.innerHTML = docLinkHtml;\n",
              "          element.appendChild(docLink);\n",
              "        }\n",
              "      </script>\n",
              "    </div>\n",
              "  </div>\n",
              "  "
            ]
          },
          "metadata": {},
          "execution_count": 12
        }
      ]
    },
    {
      "cell_type": "code",
      "source": [
        "data.shape"
      ],
      "metadata": {
        "colab": {
          "base_uri": "https://localhost:8080/"
        },
        "id": "rqDHesdlO6C_",
        "outputId": "0f7d72cd-fafb-4bd3-cdee-9dd86c442122"
      },
      "execution_count": 13,
      "outputs": [
        {
          "output_type": "execute_result",
          "data": {
            "text/plain": [
              "(7906, 13)"
            ]
          },
          "metadata": {},
          "execution_count": 13
        }
      ]
    },
    {
      "cell_type": "markdown",
      "source": [
        "## ELIMINAR REGISTROS QUE SE REPITEN"
      ],
      "metadata": {
        "id": "D_binaNeajsw"
      }
    },
    {
      "cell_type": "code",
      "source": [
        "data = data.drop_duplicates()"
      ],
      "metadata": {
        "id": "lXgkQOdjV4ev"
      },
      "execution_count": 14,
      "outputs": []
    },
    {
      "cell_type": "code",
      "source": [
        "data"
      ],
      "metadata": {
        "colab": {
          "base_uri": "https://localhost:8080/",
          "height": 424
        },
        "id": "vgnVYXqgQS13",
        "outputId": "73e7419a-752f-4578-b654-ff9abec529d6"
      },
      "execution_count": 44,
      "outputs": [
        {
          "output_type": "execute_result",
          "data": {
            "text/plain": [
              "          name      year  selling_price  km_driven      fuel  seller_type  \\\n",
              "0     0.630490  0.769231       0.042126   0.061640  0.333333          0.5   \n",
              "1     0.780414  0.769231       0.034102   0.050837  0.333333          0.5   \n",
              "2     0.189298  0.461538       0.012839   0.059310  1.000000          0.5   \n",
              "3     0.375063  0.615385       0.019559   0.053803  0.333333          0.5   \n",
              "4     0.651186  0.500000       0.010030   0.050837  1.000000          0.5   \n",
              "...        ...       ...            ...        ...       ...          ...   \n",
              "8121  0.681474  0.730769       0.023069   0.021182  1.000000          0.5   \n",
              "8122  0.371025  0.769231       0.044634   0.033891  0.333333          0.5   \n",
              "8123  0.370015  0.730769       0.029087   0.046601  1.000000          0.5   \n",
              "8124  0.311964  0.500000       0.010532   0.050414  0.333333          0.5   \n",
              "8125  0.636547  0.576923       0.035306   0.050837  0.333333          0.5   \n",
              "\n",
              "      transmission  owner   mileage    engine  max_power    torque  seats  \n",
              "0              1.0   0.00  0.854592  0.108333   0.758621  0.404545   0.25  \n",
              "1              1.0   0.50  0.724490  0.300000   0.040752  0.590909   0.25  \n",
              "2              1.0   1.00  0.459184  0.291667   0.786834  0.150000   0.25  \n",
              "3              1.0   0.00  0.834184  0.200000   0.924765  0.509091   0.25  \n",
              "4              1.0   0.00  0.346939  0.116667   0.896552  0.047727   0.25  \n",
              "...            ...    ...       ...       ...        ...       ...    ...  \n",
              "8121           1.0   0.50  0.535714  0.991667   0.695925  0.963636   0.25  \n",
              "8122           1.0   0.50  0.811224  0.200000   0.909091  0.502273   0.25  \n",
              "8123           1.0   0.00  0.515306  0.083333   0.830721  0.084091   0.25  \n",
              "8124           1.0   0.25  0.392857  0.266667   0.087774  0.568182   0.25  \n",
              "8125           1.0   0.00  0.566327  0.108333   0.749216  0.404545   0.25  \n",
              "\n",
              "[6717 rows x 13 columns]"
            ],
            "text/html": [
              "\n",
              "  <div id=\"df-12db8eae-be14-4454-8438-cf1206e44c2d\">\n",
              "    <div class=\"colab-df-container\">\n",
              "      <div>\n",
              "<style scoped>\n",
              "    .dataframe tbody tr th:only-of-type {\n",
              "        vertical-align: middle;\n",
              "    }\n",
              "\n",
              "    .dataframe tbody tr th {\n",
              "        vertical-align: top;\n",
              "    }\n",
              "\n",
              "    .dataframe thead th {\n",
              "        text-align: right;\n",
              "    }\n",
              "</style>\n",
              "<table border=\"1\" class=\"dataframe\">\n",
              "  <thead>\n",
              "    <tr style=\"text-align: right;\">\n",
              "      <th></th>\n",
              "      <th>name</th>\n",
              "      <th>year</th>\n",
              "      <th>selling_price</th>\n",
              "      <th>km_driven</th>\n",
              "      <th>fuel</th>\n",
              "      <th>seller_type</th>\n",
              "      <th>transmission</th>\n",
              "      <th>owner</th>\n",
              "      <th>mileage</th>\n",
              "      <th>engine</th>\n",
              "      <th>max_power</th>\n",
              "      <th>torque</th>\n",
              "      <th>seats</th>\n",
              "    </tr>\n",
              "  </thead>\n",
              "  <tbody>\n",
              "    <tr>\n",
              "      <th>0</th>\n",
              "      <td>0.630490</td>\n",
              "      <td>0.769231</td>\n",
              "      <td>0.042126</td>\n",
              "      <td>0.061640</td>\n",
              "      <td>0.333333</td>\n",
              "      <td>0.5</td>\n",
              "      <td>1.0</td>\n",
              "      <td>0.00</td>\n",
              "      <td>0.854592</td>\n",
              "      <td>0.108333</td>\n",
              "      <td>0.758621</td>\n",
              "      <td>0.404545</td>\n",
              "      <td>0.25</td>\n",
              "    </tr>\n",
              "    <tr>\n",
              "      <th>1</th>\n",
              "      <td>0.780414</td>\n",
              "      <td>0.769231</td>\n",
              "      <td>0.034102</td>\n",
              "      <td>0.050837</td>\n",
              "      <td>0.333333</td>\n",
              "      <td>0.5</td>\n",
              "      <td>1.0</td>\n",
              "      <td>0.50</td>\n",
              "      <td>0.724490</td>\n",
              "      <td>0.300000</td>\n",
              "      <td>0.040752</td>\n",
              "      <td>0.590909</td>\n",
              "      <td>0.25</td>\n",
              "    </tr>\n",
              "    <tr>\n",
              "      <th>2</th>\n",
              "      <td>0.189298</td>\n",
              "      <td>0.461538</td>\n",
              "      <td>0.012839</td>\n",
              "      <td>0.059310</td>\n",
              "      <td>1.000000</td>\n",
              "      <td>0.5</td>\n",
              "      <td>1.0</td>\n",
              "      <td>1.00</td>\n",
              "      <td>0.459184</td>\n",
              "      <td>0.291667</td>\n",
              "      <td>0.786834</td>\n",
              "      <td>0.150000</td>\n",
              "      <td>0.25</td>\n",
              "    </tr>\n",
              "    <tr>\n",
              "      <th>3</th>\n",
              "      <td>0.375063</td>\n",
              "      <td>0.615385</td>\n",
              "      <td>0.019559</td>\n",
              "      <td>0.053803</td>\n",
              "      <td>0.333333</td>\n",
              "      <td>0.5</td>\n",
              "      <td>1.0</td>\n",
              "      <td>0.00</td>\n",
              "      <td>0.834184</td>\n",
              "      <td>0.200000</td>\n",
              "      <td>0.924765</td>\n",
              "      <td>0.509091</td>\n",
              "      <td>0.25</td>\n",
              "    </tr>\n",
              "    <tr>\n",
              "      <th>4</th>\n",
              "      <td>0.651186</td>\n",
              "      <td>0.500000</td>\n",
              "      <td>0.010030</td>\n",
              "      <td>0.050837</td>\n",
              "      <td>1.000000</td>\n",
              "      <td>0.5</td>\n",
              "      <td>1.0</td>\n",
              "      <td>0.00</td>\n",
              "      <td>0.346939</td>\n",
              "      <td>0.116667</td>\n",
              "      <td>0.896552</td>\n",
              "      <td>0.047727</td>\n",
              "      <td>0.25</td>\n",
              "    </tr>\n",
              "    <tr>\n",
              "      <th>...</th>\n",
              "      <td>...</td>\n",
              "      <td>...</td>\n",
              "      <td>...</td>\n",
              "      <td>...</td>\n",
              "      <td>...</td>\n",
              "      <td>...</td>\n",
              "      <td>...</td>\n",
              "      <td>...</td>\n",
              "      <td>...</td>\n",
              "      <td>...</td>\n",
              "      <td>...</td>\n",
              "      <td>...</td>\n",
              "      <td>...</td>\n",
              "    </tr>\n",
              "    <tr>\n",
              "      <th>8121</th>\n",
              "      <td>0.681474</td>\n",
              "      <td>0.730769</td>\n",
              "      <td>0.023069</td>\n",
              "      <td>0.021182</td>\n",
              "      <td>1.000000</td>\n",
              "      <td>0.5</td>\n",
              "      <td>1.0</td>\n",
              "      <td>0.50</td>\n",
              "      <td>0.535714</td>\n",
              "      <td>0.991667</td>\n",
              "      <td>0.695925</td>\n",
              "      <td>0.963636</td>\n",
              "      <td>0.25</td>\n",
              "    </tr>\n",
              "    <tr>\n",
              "      <th>8122</th>\n",
              "      <td>0.371025</td>\n",
              "      <td>0.769231</td>\n",
              "      <td>0.044634</td>\n",
              "      <td>0.033891</td>\n",
              "      <td>0.333333</td>\n",
              "      <td>0.5</td>\n",
              "      <td>1.0</td>\n",
              "      <td>0.50</td>\n",
              "      <td>0.811224</td>\n",
              "      <td>0.200000</td>\n",
              "      <td>0.909091</td>\n",
              "      <td>0.502273</td>\n",
              "      <td>0.25</td>\n",
              "    </tr>\n",
              "    <tr>\n",
              "      <th>8123</th>\n",
              "      <td>0.370015</td>\n",
              "      <td>0.730769</td>\n",
              "      <td>0.029087</td>\n",
              "      <td>0.046601</td>\n",
              "      <td>1.000000</td>\n",
              "      <td>0.5</td>\n",
              "      <td>1.0</td>\n",
              "      <td>0.00</td>\n",
              "      <td>0.515306</td>\n",
              "      <td>0.083333</td>\n",
              "      <td>0.830721</td>\n",
              "      <td>0.084091</td>\n",
              "      <td>0.25</td>\n",
              "    </tr>\n",
              "    <tr>\n",
              "      <th>8124</th>\n",
              "      <td>0.311964</td>\n",
              "      <td>0.500000</td>\n",
              "      <td>0.010532</td>\n",
              "      <td>0.050414</td>\n",
              "      <td>0.333333</td>\n",
              "      <td>0.5</td>\n",
              "      <td>1.0</td>\n",
              "      <td>0.25</td>\n",
              "      <td>0.392857</td>\n",
              "      <td>0.266667</td>\n",
              "      <td>0.087774</td>\n",
              "      <td>0.568182</td>\n",
              "      <td>0.25</td>\n",
              "    </tr>\n",
              "    <tr>\n",
              "      <th>8125</th>\n",
              "      <td>0.636547</td>\n",
              "      <td>0.576923</td>\n",
              "      <td>0.035306</td>\n",
              "      <td>0.050837</td>\n",
              "      <td>0.333333</td>\n",
              "      <td>0.5</td>\n",
              "      <td>1.0</td>\n",
              "      <td>0.00</td>\n",
              "      <td>0.566327</td>\n",
              "      <td>0.108333</td>\n",
              "      <td>0.749216</td>\n",
              "      <td>0.404545</td>\n",
              "      <td>0.25</td>\n",
              "    </tr>\n",
              "  </tbody>\n",
              "</table>\n",
              "<p>6717 rows × 13 columns</p>\n",
              "</div>\n",
              "      <button class=\"colab-df-convert\" onclick=\"convertToInteractive('df-12db8eae-be14-4454-8438-cf1206e44c2d')\"\n",
              "              title=\"Convert this dataframe to an interactive table.\"\n",
              "              style=\"display:none;\">\n",
              "        \n",
              "  <svg xmlns=\"http://www.w3.org/2000/svg\" height=\"24px\"viewBox=\"0 0 24 24\"\n",
              "       width=\"24px\">\n",
              "    <path d=\"M0 0h24v24H0V0z\" fill=\"none\"/>\n",
              "    <path d=\"M18.56 5.44l.94 2.06.94-2.06 2.06-.94-2.06-.94-.94-2.06-.94 2.06-2.06.94zm-11 1L8.5 8.5l.94-2.06 2.06-.94-2.06-.94L8.5 2.5l-.94 2.06-2.06.94zm10 10l.94 2.06.94-2.06 2.06-.94-2.06-.94-.94-2.06-.94 2.06-2.06.94z\"/><path d=\"M17.41 7.96l-1.37-1.37c-.4-.4-.92-.59-1.43-.59-.52 0-1.04.2-1.43.59L10.3 9.45l-7.72 7.72c-.78.78-.78 2.05 0 2.83L4 21.41c.39.39.9.59 1.41.59.51 0 1.02-.2 1.41-.59l7.78-7.78 2.81-2.81c.8-.78.8-2.07 0-2.86zM5.41 20L4 18.59l7.72-7.72 1.47 1.35L5.41 20z\"/>\n",
              "  </svg>\n",
              "      </button>\n",
              "      \n",
              "  <style>\n",
              "    .colab-df-container {\n",
              "      display:flex;\n",
              "      flex-wrap:wrap;\n",
              "      gap: 12px;\n",
              "    }\n",
              "\n",
              "    .colab-df-convert {\n",
              "      background-color: #E8F0FE;\n",
              "      border: none;\n",
              "      border-radius: 50%;\n",
              "      cursor: pointer;\n",
              "      display: none;\n",
              "      fill: #1967D2;\n",
              "      height: 32px;\n",
              "      padding: 0 0 0 0;\n",
              "      width: 32px;\n",
              "    }\n",
              "\n",
              "    .colab-df-convert:hover {\n",
              "      background-color: #E2EBFA;\n",
              "      box-shadow: 0px 1px 2px rgba(60, 64, 67, 0.3), 0px 1px 3px 1px rgba(60, 64, 67, 0.15);\n",
              "      fill: #174EA6;\n",
              "    }\n",
              "\n",
              "    [theme=dark] .colab-df-convert {\n",
              "      background-color: #3B4455;\n",
              "      fill: #D2E3FC;\n",
              "    }\n",
              "\n",
              "    [theme=dark] .colab-df-convert:hover {\n",
              "      background-color: #434B5C;\n",
              "      box-shadow: 0px 1px 3px 1px rgba(0, 0, 0, 0.15);\n",
              "      filter: drop-shadow(0px 1px 2px rgba(0, 0, 0, 0.3));\n",
              "      fill: #FFFFFF;\n",
              "    }\n",
              "  </style>\n",
              "\n",
              "      <script>\n",
              "        const buttonEl =\n",
              "          document.querySelector('#df-12db8eae-be14-4454-8438-cf1206e44c2d button.colab-df-convert');\n",
              "        buttonEl.style.display =\n",
              "          google.colab.kernel.accessAllowed ? 'block' : 'none';\n",
              "\n",
              "        async function convertToInteractive(key) {\n",
              "          const element = document.querySelector('#df-12db8eae-be14-4454-8438-cf1206e44c2d');\n",
              "          const dataTable =\n",
              "            await google.colab.kernel.invokeFunction('convertToInteractive',\n",
              "                                                     [key], {});\n",
              "          if (!dataTable) return;\n",
              "\n",
              "          const docLinkHtml = 'Like what you see? Visit the ' +\n",
              "            '<a target=\"_blank\" href=https://colab.research.google.com/notebooks/data_table.ipynb>data table notebook</a>'\n",
              "            + ' to learn more about interactive tables.';\n",
              "          element.innerHTML = '';\n",
              "          dataTable['output_type'] = 'display_data';\n",
              "          await google.colab.output.renderOutput(dataTable, element);\n",
              "          const docLink = document.createElement('div');\n",
              "          docLink.innerHTML = docLinkHtml;\n",
              "          element.appendChild(docLink);\n",
              "        }\n",
              "      </script>\n",
              "    </div>\n",
              "  </div>\n",
              "  "
            ]
          },
          "metadata": {},
          "execution_count": 44
        }
      ]
    },
    {
      "cell_type": "markdown",
      "source": [
        "## NORMALIZACION MIN MAX"
      ],
      "metadata": {
        "id": "_D4eVF3ShUKk"
      }
    },
    {
      "cell_type": "markdown",
      "source": [
        "![image.png](data:image/png;base64,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)"
      ],
      "metadata": {
        "id": "EXdJmcd5smjO"
      }
    },
    {
      "cell_type": "code",
      "source": [
        "data = (data - data.min())/(data.max() - data.min())"
      ],
      "metadata": {
        "id": "160oDJewhgJc"
      },
      "execution_count": 16,
      "outputs": []
    },
    {
      "cell_type": "code",
      "source": [
        "data.head(10)"
      ],
      "metadata": {
        "colab": {
          "base_uri": "https://localhost:8080/",
          "height": 363
        },
        "id": "_lASx8KVhtIl",
        "outputId": "04b827aa-329b-4ef2-e905-8e04a7b25c67"
      },
      "execution_count": 17,
      "outputs": [
        {
          "output_type": "execute_result",
          "data": {
            "text/plain": [
              "       name      year  selling_price  km_driven      fuel  seller_type  \\\n",
              "0  0.630490  0.769231       0.042126   0.061640  0.333333          0.5   \n",
              "1  0.780414  0.769231       0.034102   0.050837  0.333333          0.5   \n",
              "2  0.189298  0.461538       0.012839   0.059310  1.000000          0.5   \n",
              "3  0.375063  0.615385       0.019559   0.053803  0.333333          0.5   \n",
              "4  0.651186  0.500000       0.010030   0.050837  1.000000          0.5   \n",
              "5  0.330641  0.884615       0.041123   0.019064  1.000000          0.5   \n",
              "6  0.675416  0.500000       0.006620   0.074138  0.666667          0.5   \n",
              "7  0.512872  0.269231       0.001505   0.002118  1.000000          0.5   \n",
              "8  0.927814  0.653846       0.032096   0.038128  0.333333          0.5   \n",
              "9  0.140333  0.730769       0.017051   0.071596  0.333333          0.5   \n",
              "\n",
              "   transmission  owner   mileage    engine  max_power    torque     seats  \n",
              "0           1.0    0.0  0.854592  0.108333   0.758621  0.404545  0.250000  \n",
              "1           1.0    0.5  0.724490  0.300000   0.040752  0.590909  0.250000  \n",
              "2           1.0    1.0  0.459184  0.291667   0.786834  0.150000  0.250000  \n",
              "3           1.0    0.0  0.834184  0.200000   0.924765  0.509091  0.250000  \n",
              "4           1.0    0.0  0.346939  0.116667   0.896552  0.047727  0.250000  \n",
              "5           1.0    0.0  0.627551  0.083333   0.818182  0.081818  0.250000  \n",
              "6           1.0    0.0  0.428571  0.008333   0.605016  0.913636  0.250000  \n",
              "7           1.0    0.5  0.346939  0.933333   0.532915  0.881818  0.166667  \n",
              "8           1.0    0.0  0.862245  0.158333   0.695925  0.327273  0.250000  \n",
              "9           1.0    0.0  0.622449  0.208333   0.708464  0.315909  0.250000  "
            ],
            "text/html": [
              "\n",
              "  <div id=\"df-0bbd8c9c-22a0-4a3e-8ed3-0fc41447e256\">\n",
              "    <div class=\"colab-df-container\">\n",
              "      <div>\n",
              "<style scoped>\n",
              "    .dataframe tbody tr th:only-of-type {\n",
              "        vertical-align: middle;\n",
              "    }\n",
              "\n",
              "    .dataframe tbody tr th {\n",
              "        vertical-align: top;\n",
              "    }\n",
              "\n",
              "    .dataframe thead th {\n",
              "        text-align: right;\n",
              "    }\n",
              "</style>\n",
              "<table border=\"1\" class=\"dataframe\">\n",
              "  <thead>\n",
              "    <tr style=\"text-align: right;\">\n",
              "      <th></th>\n",
              "      <th>name</th>\n",
              "      <th>year</th>\n",
              "      <th>selling_price</th>\n",
              "      <th>km_driven</th>\n",
              "      <th>fuel</th>\n",
              "      <th>seller_type</th>\n",
              "      <th>transmission</th>\n",
              "      <th>owner</th>\n",
              "      <th>mileage</th>\n",
              "      <th>engine</th>\n",
              "      <th>max_power</th>\n",
              "      <th>torque</th>\n",
              "      <th>seats</th>\n",
              "    </tr>\n",
              "  </thead>\n",
              "  <tbody>\n",
              "    <tr>\n",
              "      <th>0</th>\n",
              "      <td>0.630490</td>\n",
              "      <td>0.769231</td>\n",
              "      <td>0.042126</td>\n",
              "      <td>0.061640</td>\n",
              "      <td>0.333333</td>\n",
              "      <td>0.5</td>\n",
              "      <td>1.0</td>\n",
              "      <td>0.0</td>\n",
              "      <td>0.854592</td>\n",
              "      <td>0.108333</td>\n",
              "      <td>0.758621</td>\n",
              "      <td>0.404545</td>\n",
              "      <td>0.250000</td>\n",
              "    </tr>\n",
              "    <tr>\n",
              "      <th>1</th>\n",
              "      <td>0.780414</td>\n",
              "      <td>0.769231</td>\n",
              "      <td>0.034102</td>\n",
              "      <td>0.050837</td>\n",
              "      <td>0.333333</td>\n",
              "      <td>0.5</td>\n",
              "      <td>1.0</td>\n",
              "      <td>0.5</td>\n",
              "      <td>0.724490</td>\n",
              "      <td>0.300000</td>\n",
              "      <td>0.040752</td>\n",
              "      <td>0.590909</td>\n",
              "      <td>0.250000</td>\n",
              "    </tr>\n",
              "    <tr>\n",
              "      <th>2</th>\n",
              "      <td>0.189298</td>\n",
              "      <td>0.461538</td>\n",
              "      <td>0.012839</td>\n",
              "      <td>0.059310</td>\n",
              "      <td>1.000000</td>\n",
              "      <td>0.5</td>\n",
              "      <td>1.0</td>\n",
              "      <td>1.0</td>\n",
              "      <td>0.459184</td>\n",
              "      <td>0.291667</td>\n",
              "      <td>0.786834</td>\n",
              "      <td>0.150000</td>\n",
              "      <td>0.250000</td>\n",
              "    </tr>\n",
              "    <tr>\n",
              "      <th>3</th>\n",
              "      <td>0.375063</td>\n",
              "      <td>0.615385</td>\n",
              "      <td>0.019559</td>\n",
              "      <td>0.053803</td>\n",
              "      <td>0.333333</td>\n",
              "      <td>0.5</td>\n",
              "      <td>1.0</td>\n",
              "      <td>0.0</td>\n",
              "      <td>0.834184</td>\n",
              "      <td>0.200000</td>\n",
              "      <td>0.924765</td>\n",
              "      <td>0.509091</td>\n",
              "      <td>0.250000</td>\n",
              "    </tr>\n",
              "    <tr>\n",
              "      <th>4</th>\n",
              "      <td>0.651186</td>\n",
              "      <td>0.500000</td>\n",
              "      <td>0.010030</td>\n",
              "      <td>0.050837</td>\n",
              "      <td>1.000000</td>\n",
              "      <td>0.5</td>\n",
              "      <td>1.0</td>\n",
              "      <td>0.0</td>\n",
              "      <td>0.346939</td>\n",
              "      <td>0.116667</td>\n",
              "      <td>0.896552</td>\n",
              "      <td>0.047727</td>\n",
              "      <td>0.250000</td>\n",
              "    </tr>\n",
              "    <tr>\n",
              "      <th>5</th>\n",
              "      <td>0.330641</td>\n",
              "      <td>0.884615</td>\n",
              "      <td>0.041123</td>\n",
              "      <td>0.019064</td>\n",
              "      <td>1.000000</td>\n",
              "      <td>0.5</td>\n",
              "      <td>1.0</td>\n",
              "      <td>0.0</td>\n",
              "      <td>0.627551</td>\n",
              "      <td>0.083333</td>\n",
              "      <td>0.818182</td>\n",
              "      <td>0.081818</td>\n",
              "      <td>0.250000</td>\n",
              "    </tr>\n",
              "    <tr>\n",
              "      <th>6</th>\n",
              "      <td>0.675416</td>\n",
              "      <td>0.500000</td>\n",
              "      <td>0.006620</td>\n",
              "      <td>0.074138</td>\n",
              "      <td>0.666667</td>\n",
              "      <td>0.5</td>\n",
              "      <td>1.0</td>\n",
              "      <td>0.0</td>\n",
              "      <td>0.428571</td>\n",
              "      <td>0.008333</td>\n",
              "      <td>0.605016</td>\n",
              "      <td>0.913636</td>\n",
              "      <td>0.250000</td>\n",
              "    </tr>\n",
              "    <tr>\n",
              "      <th>7</th>\n",
              "      <td>0.512872</td>\n",
              "      <td>0.269231</td>\n",
              "      <td>0.001505</td>\n",
              "      <td>0.002118</td>\n",
              "      <td>1.000000</td>\n",
              "      <td>0.5</td>\n",
              "      <td>1.0</td>\n",
              "      <td>0.5</td>\n",
              "      <td>0.346939</td>\n",
              "      <td>0.933333</td>\n",
              "      <td>0.532915</td>\n",
              "      <td>0.881818</td>\n",
              "      <td>0.166667</td>\n",
              "    </tr>\n",
              "    <tr>\n",
              "      <th>8</th>\n",
              "      <td>0.927814</td>\n",
              "      <td>0.653846</td>\n",
              "      <td>0.032096</td>\n",
              "      <td>0.038128</td>\n",
              "      <td>0.333333</td>\n",
              "      <td>0.5</td>\n",
              "      <td>1.0</td>\n",
              "      <td>0.0</td>\n",
              "      <td>0.862245</td>\n",
              "      <td>0.158333</td>\n",
              "      <td>0.695925</td>\n",
              "      <td>0.327273</td>\n",
              "      <td>0.250000</td>\n",
              "    </tr>\n",
              "    <tr>\n",
              "      <th>9</th>\n",
              "      <td>0.140333</td>\n",
              "      <td>0.730769</td>\n",
              "      <td>0.017051</td>\n",
              "      <td>0.071596</td>\n",
              "      <td>0.333333</td>\n",
              "      <td>0.5</td>\n",
              "      <td>1.0</td>\n",
              "      <td>0.0</td>\n",
              "      <td>0.622449</td>\n",
              "      <td>0.208333</td>\n",
              "      <td>0.708464</td>\n",
              "      <td>0.315909</td>\n",
              "      <td>0.250000</td>\n",
              "    </tr>\n",
              "  </tbody>\n",
              "</table>\n",
              "</div>\n",
              "      <button class=\"colab-df-convert\" onclick=\"convertToInteractive('df-0bbd8c9c-22a0-4a3e-8ed3-0fc41447e256')\"\n",
              "              title=\"Convert this dataframe to an interactive table.\"\n",
              "              style=\"display:none;\">\n",
              "        \n",
              "  <svg xmlns=\"http://www.w3.org/2000/svg\" height=\"24px\"viewBox=\"0 0 24 24\"\n",
              "       width=\"24px\">\n",
              "    <path d=\"M0 0h24v24H0V0z\" fill=\"none\"/>\n",
              "    <path d=\"M18.56 5.44l.94 2.06.94-2.06 2.06-.94-2.06-.94-.94-2.06-.94 2.06-2.06.94zm-11 1L8.5 8.5l.94-2.06 2.06-.94-2.06-.94L8.5 2.5l-.94 2.06-2.06.94zm10 10l.94 2.06.94-2.06 2.06-.94-2.06-.94-.94-2.06-.94 2.06-2.06.94z\"/><path d=\"M17.41 7.96l-1.37-1.37c-.4-.4-.92-.59-1.43-.59-.52 0-1.04.2-1.43.59L10.3 9.45l-7.72 7.72c-.78.78-.78 2.05 0 2.83L4 21.41c.39.39.9.59 1.41.59.51 0 1.02-.2 1.41-.59l7.78-7.78 2.81-2.81c.8-.78.8-2.07 0-2.86zM5.41 20L4 18.59l7.72-7.72 1.47 1.35L5.41 20z\"/>\n",
              "  </svg>\n",
              "      </button>\n",
              "      \n",
              "  <style>\n",
              "    .colab-df-container {\n",
              "      display:flex;\n",
              "      flex-wrap:wrap;\n",
              "      gap: 12px;\n",
              "    }\n",
              "\n",
              "    .colab-df-convert {\n",
              "      background-color: #E8F0FE;\n",
              "      border: none;\n",
              "      border-radius: 50%;\n",
              "      cursor: pointer;\n",
              "      display: none;\n",
              "      fill: #1967D2;\n",
              "      height: 32px;\n",
              "      padding: 0 0 0 0;\n",
              "      width: 32px;\n",
              "    }\n",
              "\n",
              "    .colab-df-convert:hover {\n",
              "      background-color: #E2EBFA;\n",
              "      box-shadow: 0px 1px 2px rgba(60, 64, 67, 0.3), 0px 1px 3px 1px rgba(60, 64, 67, 0.15);\n",
              "      fill: #174EA6;\n",
              "    }\n",
              "\n",
              "    [theme=dark] .colab-df-convert {\n",
              "      background-color: #3B4455;\n",
              "      fill: #D2E3FC;\n",
              "    }\n",
              "\n",
              "    [theme=dark] .colab-df-convert:hover {\n",
              "      background-color: #434B5C;\n",
              "      box-shadow: 0px 1px 3px 1px rgba(0, 0, 0, 0.15);\n",
              "      filter: drop-shadow(0px 1px 2px rgba(0, 0, 0, 0.3));\n",
              "      fill: #FFFFFF;\n",
              "    }\n",
              "  </style>\n",
              "\n",
              "      <script>\n",
              "        const buttonEl =\n",
              "          document.querySelector('#df-0bbd8c9c-22a0-4a3e-8ed3-0fc41447e256 button.colab-df-convert');\n",
              "        buttonEl.style.display =\n",
              "          google.colab.kernel.accessAllowed ? 'block' : 'none';\n",
              "\n",
              "        async function convertToInteractive(key) {\n",
              "          const element = document.querySelector('#df-0bbd8c9c-22a0-4a3e-8ed3-0fc41447e256');\n",
              "          const dataTable =\n",
              "            await google.colab.kernel.invokeFunction('convertToInteractive',\n",
              "                                                     [key], {});\n",
              "          if (!dataTable) return;\n",
              "\n",
              "          const docLinkHtml = 'Like what you see? Visit the ' +\n",
              "            '<a target=\"_blank\" href=https://colab.research.google.com/notebooks/data_table.ipynb>data table notebook</a>'\n",
              "            + ' to learn more about interactive tables.';\n",
              "          element.innerHTML = '';\n",
              "          dataTable['output_type'] = 'display_data';\n",
              "          await google.colab.output.renderOutput(dataTable, element);\n",
              "          const docLink = document.createElement('div');\n",
              "          docLink.innerHTML = docLinkHtml;\n",
              "          element.appendChild(docLink);\n",
              "        }\n",
              "      </script>\n",
              "    </div>\n",
              "  </div>\n",
              "  "
            ]
          },
          "metadata": {},
          "execution_count": 17
        }
      ]
    },
    {
      "cell_type": "code",
      "source": [
        "data.info()"
      ],
      "metadata": {
        "colab": {
          "base_uri": "https://localhost:8080/"
        },
        "id": "hhBF0tySxBfF",
        "outputId": "43f6db0a-0f95-498d-f370-e13932eab674"
      },
      "execution_count": 39,
      "outputs": [
        {
          "output_type": "stream",
          "name": "stdout",
          "text": [
            "<class 'pandas.core.frame.DataFrame'>\n",
            "Int64Index: 6717 entries, 0 to 8125\n",
            "Data columns (total 13 columns):\n",
            " #   Column         Non-Null Count  Dtype  \n",
            "---  ------         --------------  -----  \n",
            " 0   name           6717 non-null   float64\n",
            " 1   year           6717 non-null   float64\n",
            " 2   selling_price  6717 non-null   float64\n",
            " 3   km_driven      6717 non-null   float64\n",
            " 4   fuel           6717 non-null   float64\n",
            " 5   seller_type    6717 non-null   float64\n",
            " 6   transmission   6717 non-null   float64\n",
            " 7   owner          6717 non-null   float64\n",
            " 8   mileage        6717 non-null   float64\n",
            " 9   engine         6717 non-null   float64\n",
            " 10  max_power      6717 non-null   float64\n",
            " 11  torque         6717 non-null   float64\n",
            " 12  seats          6717 non-null   float64\n",
            "dtypes: float64(13)\n",
            "memory usage: 734.7 KB\n"
          ]
        }
      ]
    },
    {
      "cell_type": "markdown",
      "source": [
        ""
      ],
      "metadata": {
        "id": "XXZjLlwXhrCF"
      }
    },
    {
      "cell_type": "markdown",
      "source": [
        "# Procesamiento de nuestros datos X_TRAIN y Y_TRAIN"
      ],
      "metadata": {
        "id": "542b_BUdQXxg"
      }
    },
    {
      "cell_type": "markdown",
      "source": [
        "#Escalamos"
      ],
      "metadata": {
        "id": "XPE4MWpMminl"
      }
    },
    {
      "cell_type": "code",
      "source": [
        "#como vemos algunos de nuestros valores son demasiados grandes por ello lo escalaremos o nomralizamos\n",
        "data = (data - data.min())/(data.max() - data.min())"
      ],
      "metadata": {
        "id": "N7QTLTval_-n"
      },
      "execution_count": 22,
      "outputs": []
    },
    {
      "cell_type": "code",
      "source": [
        "data.head(10)"
      ],
      "metadata": {
        "colab": {
          "base_uri": "https://localhost:8080/",
          "height": 363
        },
        "id": "xqpZ3Fg3lesE",
        "outputId": "b9a3fc68-aa17-40ca-f61b-0c8b20b99e7a"
      },
      "execution_count": 27,
      "outputs": [
        {
          "output_type": "execute_result",
          "data": {
            "text/plain": [
              "       name      year  selling_price  km_driven      fuel  seller_type  \\\n",
              "0  0.630490  0.769231       0.042126   0.061640  0.333333          0.5   \n",
              "1  0.780414  0.769231       0.034102   0.050837  0.333333          0.5   \n",
              "2  0.189298  0.461538       0.012839   0.059310  1.000000          0.5   \n",
              "3  0.375063  0.615385       0.019559   0.053803  0.333333          0.5   \n",
              "4  0.651186  0.500000       0.010030   0.050837  1.000000          0.5   \n",
              "5  0.330641  0.884615       0.041123   0.019064  1.000000          0.5   \n",
              "6  0.675416  0.500000       0.006620   0.074138  0.666667          0.5   \n",
              "7  0.512872  0.269231       0.001505   0.002118  1.000000          0.5   \n",
              "8  0.927814  0.653846       0.032096   0.038128  0.333333          0.5   \n",
              "9  0.140333  0.730769       0.017051   0.071596  0.333333          0.5   \n",
              "\n",
              "   transmission  owner   mileage    engine  max_power    torque     seats  \n",
              "0           1.0    0.0  0.854592  0.108333   0.758621  0.404545  0.250000  \n",
              "1           1.0    0.5  0.724490  0.300000   0.040752  0.590909  0.250000  \n",
              "2           1.0    1.0  0.459184  0.291667   0.786834  0.150000  0.250000  \n",
              "3           1.0    0.0  0.834184  0.200000   0.924765  0.509091  0.250000  \n",
              "4           1.0    0.0  0.346939  0.116667   0.896552  0.047727  0.250000  \n",
              "5           1.0    0.0  0.627551  0.083333   0.818182  0.081818  0.250000  \n",
              "6           1.0    0.0  0.428571  0.008333   0.605016  0.913636  0.250000  \n",
              "7           1.0    0.5  0.346939  0.933333   0.532915  0.881818  0.166667  \n",
              "8           1.0    0.0  0.862245  0.158333   0.695925  0.327273  0.250000  \n",
              "9           1.0    0.0  0.622449  0.208333   0.708464  0.315909  0.250000  "
            ],
            "text/html": [
              "\n",
              "  <div id=\"df-a4f2edd6-064b-487a-b3f9-3076c19bc8ed\">\n",
              "    <div class=\"colab-df-container\">\n",
              "      <div>\n",
              "<style scoped>\n",
              "    .dataframe tbody tr th:only-of-type {\n",
              "        vertical-align: middle;\n",
              "    }\n",
              "\n",
              "    .dataframe tbody tr th {\n",
              "        vertical-align: top;\n",
              "    }\n",
              "\n",
              "    .dataframe thead th {\n",
              "        text-align: right;\n",
              "    }\n",
              "</style>\n",
              "<table border=\"1\" class=\"dataframe\">\n",
              "  <thead>\n",
              "    <tr style=\"text-align: right;\">\n",
              "      <th></th>\n",
              "      <th>name</th>\n",
              "      <th>year</th>\n",
              "      <th>selling_price</th>\n",
              "      <th>km_driven</th>\n",
              "      <th>fuel</th>\n",
              "      <th>seller_type</th>\n",
              "      <th>transmission</th>\n",
              "      <th>owner</th>\n",
              "      <th>mileage</th>\n",
              "      <th>engine</th>\n",
              "      <th>max_power</th>\n",
              "      <th>torque</th>\n",
              "      <th>seats</th>\n",
              "    </tr>\n",
              "  </thead>\n",
              "  <tbody>\n",
              "    <tr>\n",
              "      <th>0</th>\n",
              "      <td>0.630490</td>\n",
              "      <td>0.769231</td>\n",
              "      <td>0.042126</td>\n",
              "      <td>0.061640</td>\n",
              "      <td>0.333333</td>\n",
              "      <td>0.5</td>\n",
              "      <td>1.0</td>\n",
              "      <td>0.0</td>\n",
              "      <td>0.854592</td>\n",
              "      <td>0.108333</td>\n",
              "      <td>0.758621</td>\n",
              "      <td>0.404545</td>\n",
              "      <td>0.250000</td>\n",
              "    </tr>\n",
              "    <tr>\n",
              "      <th>1</th>\n",
              "      <td>0.780414</td>\n",
              "      <td>0.769231</td>\n",
              "      <td>0.034102</td>\n",
              "      <td>0.050837</td>\n",
              "      <td>0.333333</td>\n",
              "      <td>0.5</td>\n",
              "      <td>1.0</td>\n",
              "      <td>0.5</td>\n",
              "      <td>0.724490</td>\n",
              "      <td>0.300000</td>\n",
              "      <td>0.040752</td>\n",
              "      <td>0.590909</td>\n",
              "      <td>0.250000</td>\n",
              "    </tr>\n",
              "    <tr>\n",
              "      <th>2</th>\n",
              "      <td>0.189298</td>\n",
              "      <td>0.461538</td>\n",
              "      <td>0.012839</td>\n",
              "      <td>0.059310</td>\n",
              "      <td>1.000000</td>\n",
              "      <td>0.5</td>\n",
              "      <td>1.0</td>\n",
              "      <td>1.0</td>\n",
              "      <td>0.459184</td>\n",
              "      <td>0.291667</td>\n",
              "      <td>0.786834</td>\n",
              "      <td>0.150000</td>\n",
              "      <td>0.250000</td>\n",
              "    </tr>\n",
              "    <tr>\n",
              "      <th>3</th>\n",
              "      <td>0.375063</td>\n",
              "      <td>0.615385</td>\n",
              "      <td>0.019559</td>\n",
              "      <td>0.053803</td>\n",
              "      <td>0.333333</td>\n",
              "      <td>0.5</td>\n",
              "      <td>1.0</td>\n",
              "      <td>0.0</td>\n",
              "      <td>0.834184</td>\n",
              "      <td>0.200000</td>\n",
              "      <td>0.924765</td>\n",
              "      <td>0.509091</td>\n",
              "      <td>0.250000</td>\n",
              "    </tr>\n",
              "    <tr>\n",
              "      <th>4</th>\n",
              "      <td>0.651186</td>\n",
              "      <td>0.500000</td>\n",
              "      <td>0.010030</td>\n",
              "      <td>0.050837</td>\n",
              "      <td>1.000000</td>\n",
              "      <td>0.5</td>\n",
              "      <td>1.0</td>\n",
              "      <td>0.0</td>\n",
              "      <td>0.346939</td>\n",
              "      <td>0.116667</td>\n",
              "      <td>0.896552</td>\n",
              "      <td>0.047727</td>\n",
              "      <td>0.250000</td>\n",
              "    </tr>\n",
              "    <tr>\n",
              "      <th>5</th>\n",
              "      <td>0.330641</td>\n",
              "      <td>0.884615</td>\n",
              "      <td>0.041123</td>\n",
              "      <td>0.019064</td>\n",
              "      <td>1.000000</td>\n",
              "      <td>0.5</td>\n",
              "      <td>1.0</td>\n",
              "      <td>0.0</td>\n",
              "      <td>0.627551</td>\n",
              "      <td>0.083333</td>\n",
              "      <td>0.818182</td>\n",
              "      <td>0.081818</td>\n",
              "      <td>0.250000</td>\n",
              "    </tr>\n",
              "    <tr>\n",
              "      <th>6</th>\n",
              "      <td>0.675416</td>\n",
              "      <td>0.500000</td>\n",
              "      <td>0.006620</td>\n",
              "      <td>0.074138</td>\n",
              "      <td>0.666667</td>\n",
              "      <td>0.5</td>\n",
              "      <td>1.0</td>\n",
              "      <td>0.0</td>\n",
              "      <td>0.428571</td>\n",
              "      <td>0.008333</td>\n",
              "      <td>0.605016</td>\n",
              "      <td>0.913636</td>\n",
              "      <td>0.250000</td>\n",
              "    </tr>\n",
              "    <tr>\n",
              "      <th>7</th>\n",
              "      <td>0.512872</td>\n",
              "      <td>0.269231</td>\n",
              "      <td>0.001505</td>\n",
              "      <td>0.002118</td>\n",
              "      <td>1.000000</td>\n",
              "      <td>0.5</td>\n",
              "      <td>1.0</td>\n",
              "      <td>0.5</td>\n",
              "      <td>0.346939</td>\n",
              "      <td>0.933333</td>\n",
              "      <td>0.532915</td>\n",
              "      <td>0.881818</td>\n",
              "      <td>0.166667</td>\n",
              "    </tr>\n",
              "    <tr>\n",
              "      <th>8</th>\n",
              "      <td>0.927814</td>\n",
              "      <td>0.653846</td>\n",
              "      <td>0.032096</td>\n",
              "      <td>0.038128</td>\n",
              "      <td>0.333333</td>\n",
              "      <td>0.5</td>\n",
              "      <td>1.0</td>\n",
              "      <td>0.0</td>\n",
              "      <td>0.862245</td>\n",
              "      <td>0.158333</td>\n",
              "      <td>0.695925</td>\n",
              "      <td>0.327273</td>\n",
              "      <td>0.250000</td>\n",
              "    </tr>\n",
              "    <tr>\n",
              "      <th>9</th>\n",
              "      <td>0.140333</td>\n",
              "      <td>0.730769</td>\n",
              "      <td>0.017051</td>\n",
              "      <td>0.071596</td>\n",
              "      <td>0.333333</td>\n",
              "      <td>0.5</td>\n",
              "      <td>1.0</td>\n",
              "      <td>0.0</td>\n",
              "      <td>0.622449</td>\n",
              "      <td>0.208333</td>\n",
              "      <td>0.708464</td>\n",
              "      <td>0.315909</td>\n",
              "      <td>0.250000</td>\n",
              "    </tr>\n",
              "  </tbody>\n",
              "</table>\n",
              "</div>\n",
              "      <button class=\"colab-df-convert\" onclick=\"convertToInteractive('df-a4f2edd6-064b-487a-b3f9-3076c19bc8ed')\"\n",
              "              title=\"Convert this dataframe to an interactive table.\"\n",
              "              style=\"display:none;\">\n",
              "        \n",
              "  <svg xmlns=\"http://www.w3.org/2000/svg\" height=\"24px\"viewBox=\"0 0 24 24\"\n",
              "       width=\"24px\">\n",
              "    <path d=\"M0 0h24v24H0V0z\" fill=\"none\"/>\n",
              "    <path d=\"M18.56 5.44l.94 2.06.94-2.06 2.06-.94-2.06-.94-.94-2.06-.94 2.06-2.06.94zm-11 1L8.5 8.5l.94-2.06 2.06-.94-2.06-.94L8.5 2.5l-.94 2.06-2.06.94zm10 10l.94 2.06.94-2.06 2.06-.94-2.06-.94-.94-2.06-.94 2.06-2.06.94z\"/><path d=\"M17.41 7.96l-1.37-1.37c-.4-.4-.92-.59-1.43-.59-.52 0-1.04.2-1.43.59L10.3 9.45l-7.72 7.72c-.78.78-.78 2.05 0 2.83L4 21.41c.39.39.9.59 1.41.59.51 0 1.02-.2 1.41-.59l7.78-7.78 2.81-2.81c.8-.78.8-2.07 0-2.86zM5.41 20L4 18.59l7.72-7.72 1.47 1.35L5.41 20z\"/>\n",
              "  </svg>\n",
              "      </button>\n",
              "      \n",
              "  <style>\n",
              "    .colab-df-container {\n",
              "      display:flex;\n",
              "      flex-wrap:wrap;\n",
              "      gap: 12px;\n",
              "    }\n",
              "\n",
              "    .colab-df-convert {\n",
              "      background-color: #E8F0FE;\n",
              "      border: none;\n",
              "      border-radius: 50%;\n",
              "      cursor: pointer;\n",
              "      display: none;\n",
              "      fill: #1967D2;\n",
              "      height: 32px;\n",
              "      padding: 0 0 0 0;\n",
              "      width: 32px;\n",
              "    }\n",
              "\n",
              "    .colab-df-convert:hover {\n",
              "      background-color: #E2EBFA;\n",
              "      box-shadow: 0px 1px 2px rgba(60, 64, 67, 0.3), 0px 1px 3px 1px rgba(60, 64, 67, 0.15);\n",
              "      fill: #174EA6;\n",
              "    }\n",
              "\n",
              "    [theme=dark] .colab-df-convert {\n",
              "      background-color: #3B4455;\n",
              "      fill: #D2E3FC;\n",
              "    }\n",
              "\n",
              "    [theme=dark] .colab-df-convert:hover {\n",
              "      background-color: #434B5C;\n",
              "      box-shadow: 0px 1px 3px 1px rgba(0, 0, 0, 0.15);\n",
              "      filter: drop-shadow(0px 1px 2px rgba(0, 0, 0, 0.3));\n",
              "      fill: #FFFFFF;\n",
              "    }\n",
              "  </style>\n",
              "\n",
              "      <script>\n",
              "        const buttonEl =\n",
              "          document.querySelector('#df-a4f2edd6-064b-487a-b3f9-3076c19bc8ed button.colab-df-convert');\n",
              "        buttonEl.style.display =\n",
              "          google.colab.kernel.accessAllowed ? 'block' : 'none';\n",
              "\n",
              "        async function convertToInteractive(key) {\n",
              "          const element = document.querySelector('#df-a4f2edd6-064b-487a-b3f9-3076c19bc8ed');\n",
              "          const dataTable =\n",
              "            await google.colab.kernel.invokeFunction('convertToInteractive',\n",
              "                                                     [key], {});\n",
              "          if (!dataTable) return;\n",
              "\n",
              "          const docLinkHtml = 'Like what you see? Visit the ' +\n",
              "            '<a target=\"_blank\" href=https://colab.research.google.com/notebooks/data_table.ipynb>data table notebook</a>'\n",
              "            + ' to learn more about interactive tables.';\n",
              "          element.innerHTML = '';\n",
              "          dataTable['output_type'] = 'display_data';\n",
              "          await google.colab.output.renderOutput(dataTable, element);\n",
              "          const docLink = document.createElement('div');\n",
              "          docLink.innerHTML = docLinkHtml;\n",
              "          element.appendChild(docLink);\n",
              "        }\n",
              "      </script>\n",
              "    </div>\n",
              "  </div>\n",
              "  "
            ]
          },
          "metadata": {},
          "execution_count": 27
        }
      ]
    },
    {
      "cell_type": "code",
      "source": [
        "\n",
        "import numpy as np\n",
        "\n",
        "x_train = data.iloc[:,[0,1,3,4,5,6,7,8,9,10,11,12]].values\n",
        "y_train = data.iloc[:,2].values"
      ],
      "metadata": {
        "id": "DP5Hq4AfQcPe"
      },
      "execution_count": 24,
      "outputs": []
    },
    {
      "cell_type": "code",
      "source": [
        "x_train.shape"
      ],
      "metadata": {
        "colab": {
          "base_uri": "https://localhost:8080/"
        },
        "id": "qIonMi4EU7G-",
        "outputId": "1267da09-4908-4fd3-e5cc-60df4efbab5b"
      },
      "execution_count": 25,
      "outputs": [
        {
          "output_type": "execute_result",
          "data": {
            "text/plain": [
              "(6717, 12)"
            ]
          },
          "metadata": {},
          "execution_count": 25
        }
      ]
    },
    {
      "cell_type": "code",
      "source": [
        "y_train.shape"
      ],
      "metadata": {
        "colab": {
          "base_uri": "https://localhost:8080/"
        },
        "id": "AhamPjZqVNlI",
        "outputId": "9ca772d7-b360-47e0-ffb3-2a7814c40064"
      },
      "execution_count": 26,
      "outputs": [
        {
          "output_type": "execute_result",
          "data": {
            "text/plain": [
              "(6717,)"
            ]
          },
          "metadata": {},
          "execution_count": 26
        }
      ]
    },
    {
      "cell_type": "markdown",
      "source": [
        "#REGRESION LINEAL MULTIVARIABLE SIN LIBRERIAS"
      ],
      "metadata": {
        "id": "M4IbHyfLVvPI"
      }
    },
    {
      "cell_type": "code",
      "source": [
        "def predict(x, w, b): \n",
        "    p = np.dot(x, w) + b   \n",
        "    return p "
      ],
      "metadata": {
        "id": "He-RABAKVtoA"
      },
      "execution_count": 28,
      "outputs": []
    },
    {
      "cell_type": "code",
      "source": [
        "def compute_cost(X, y, w, b): \n",
        "    y_pred = predict(X, w, b)\n",
        "    cost = (((y_pred-y)**2).sum())/(2*len(y))\n",
        "    return cost"
      ],
      "metadata": {
        "id": "mmyTfZ_fWqXI"
      },
      "execution_count": 29,
      "outputs": []
    },
    {
      "cell_type": "code",
      "source": [
        "def compute_gradient(X, y, w, b): \n",
        "    \n",
        "    y_pred = predict(X, w, b)\n",
        "    dj_dw = []\n",
        "    \n",
        "    for i in range(X.shape[1]):\n",
        "      p = (y_pred - y) * [X[j][i] for j in range(len(y))]\n",
        "      dj_dw.append(p.sum()/ len(y))\n",
        "\n",
        "    dj_db = ((y_pred - y).sum())/ len(y)  \n",
        "    return dj_db, dj_dw"
      ],
      "metadata": {
        "id": "KzDLqPYgWwJ3"
      },
      "execution_count": 30,
      "outputs": []
    },
    {
      "cell_type": "code",
      "source": [
        "def gradient_descent(X, y, w_in, b_in, cost_function, gradient_function, alpha, num_iters): \n",
        "    J_history = []\n",
        "    while num_iters != 0:\n",
        "\n",
        "      b , w = compute_gradient(X,y,w_in,b_in)\n",
        "     \n",
        "      for i in range(len(w)):\n",
        "        w_in[i] = w_in[i] - (alpha *(w[i]))\n",
        "      b_in = b_in - (alpha *(b))\n",
        "      J_history.append(compute_cost(X,y,w_in,b_in))\n",
        "      num_iters = num_iters - 1 \n",
        "\n",
        "    return w_in, b_in, J_history"
      ],
      "metadata": {
        "id": "vuY5CE52W5EY"
      },
      "execution_count": 31,
      "outputs": []
    },
    {
      "cell_type": "code",
      "source": [
        "import numpy as np\n",
        "initial_w = np.zeros_like(x_train[0])\n",
        "initial_b = 0."
      ],
      "metadata": {
        "id": "lw_-r4KNXJ73"
      },
      "execution_count": 32,
      "outputs": []
    },
    {
      "cell_type": "code",
      "source": [
        "\n",
        "alphas = [0.001, 0.01, 0.1, 0.2, 0.3, 0.4, 0.5]\n",
        "for alpha in alphas:\n",
        "\n",
        "  iterations = 1000\n",
        "  w_final, b_final, J_hist = gradient_descent(x_train, y_train, initial_w, initial_b,compute_cost, compute_gradient, alpha, iterations)\n",
        "  tmp_f_wb = predict(x_train,w_final,b_final)\n",
        "  plt.plot(x_train[:,[2]], tmp_f_wb, c='y',label='Our Prediction')\n",
        "  plt.scatter(x_train[:,[2]], y_train, marker='x', c='g',label='Actual Values')\n",
        "  plt.title(\"Alpha: \" + str(alpha))\n",
        "  plt.ylabel('Precio')\n",
        "  plt.xlabel('Year')\n",
        "  plt.legend()\n",
        "  plt.show()"
      ],
      "metadata": {
        "colab": {
          "base_uri": "https://localhost:8080/",
          "height": 1000
        },
        "id": "kwiIESQpDC6d",
        "outputId": "60ef17c6-6373-4b92-c6be-2889ca595d2a"
      },
      "execution_count": 37,
      "outputs": [
        {
          "output_type": "display_data",
          "data": {
            "text/plain": [
              "<Figure size 432x288 with 1 Axes>"
            ],
            "image/png": "[encoded data removed]"
          },
          "metadata": {
            "needs_background": "light"
          }
        },
        {
          "output_type": "display_data",
          "data": {
            "text/plain": [
              "<Figure size 432x288 with 1 Axes>"
            ],
            "image/png": "[encoded data removed]"
          },
          "metadata": {
            "needs_background": "light"
          }
        },
        {
          "output_type": "display_data",
          "data": {
            "text/plain": [
              "<Figure size 432x288 with 1 Axes>"
            ],
            "image/png": "[encoded data removed]"
          },
          "metadata": {
            "needs_background": "light"
          }
        },
        {
          "output_type": "display_data",
          "data": {
            "text/plain": [
              "<Figure size 432x288 with 1 Axes>"
            ],
            "image/png": "[encoded data removed]"
          },
          "metadata": {
            "needs_background": "light"
          }
        },
        {
          "output_type": "display_data",
          "data": {
            "text/plain": [
              "<Figure size 432x288 with 1 Axes>"
            ],
            "image/png": "[encoded data removed]"
          },
          "metadata": {
            "needs_background": "light"
          }
        },
        {
          "output_type": "display_data",
          "data": {
            "text/plain": [
              "<Figure size 432x288 with 1 Axes>"
            ],
            "image/png": "[encoded data removed]"
          },
          "metadata": {
            "needs_background": "light"
          }
        },
        {
          "output_type": "display_data",
          "data": {
            "text/plain": [
              "<Figure size 432x288 with 1 Axes>"
            ],
            "image/png": "[encoded data removed]"
          },
          "metadata": {
            "needs_background": "light"
          }
        }
      ]
    },
    {
      "cell_type": "code",
      "source": [
        "initial_w = np.zeros_like(x_train[0])\n",
        "initial_b = 0.\n",
        "iterations = 1000\n",
        "alpha = 0.2\n",
        "w_final, b_final, J_hist = gradient_descent(x_train, y_train, initial_w, initial_b,compute_cost, compute_gradient, alpha, iterations)"
      ],
      "metadata": {
        "id": "-EOlcqJNMWqO"
      },
      "execution_count": 34,
      "outputs": []
    },
    {
      "cell_type": "code",
      "source": [
        "import matplotlib.pyplot as plt\n",
        "fig, (ax1, ax2) = plt.subplots(1, 2, constrained_layout=True, figsize=(12, 4))\n",
        "ax1.plot(J_hist)\n",
        "ax2.plot(100 + np.arange(len(J_hist[100:])), J_hist[100:])\n",
        "ax1.set_title(\"Cost vs. iteration\");  ax2.set_title(\"Cost vs. iteration (tail)\")\n",
        "ax1.set_ylabel('Cost')             ;  ax2.set_ylabel('Cost') \n",
        "ax1.set_xlabel('iteration step')   ;  ax2.set_xlabel('iteration step') \n",
        "plt.show()"
      ],
      "metadata": {
        "colab": {
          "base_uri": "https://localhost:8080/",
          "height": 313
        },
        "id": "XonbaIjoxPiv",
        "outputId": "cbd895d7-f0eb-4eda-b8ec-163dad38fca8"
      },
      "execution_count": 35,
      "outputs": [
        {
          "output_type": "display_data",
          "data": {
            "text/plain": [
              "<Figure size 864x288 with 2 Axes>"
            ],
            "image/png": "[encoded data removed]"
          },
          "metadata": {
            "needs_background": "light"
          }
        }
      ]
    },
    {
      "cell_type": "code",
      "source": [
        "plt.figure(figsize = (5,4))\n",
        "data.plot(\"year\", \"selling_price\", kind=\"scatter\",marker = '^', label = 'Año / Precio de venta')\n",
        "plt.show()"
      ],
      "metadata": {
        "colab": {
          "base_uri": "https://localhost:8080/",
          "height": 296
        },
        "id": "tuQzhKUEM7ZJ",
        "outputId": "c9520515-fd26-4c0c-a879-fb0084a8004f"
      },
      "execution_count": 48,
      "outputs": [
        {
          "output_type": "display_data",
          "data": {
            "text/plain": [
              "<Figure size 360x288 with 0 Axes>"
            ]
          },
          "metadata": {}
        },
        {
          "output_type": "display_data",
          "data": {
            "text/plain": [
              "<Figure size 432x288 with 1 Axes>"
            ],
            "image/png": "[encoded data removed]"
          },
          "metadata": {
            "needs_background": "light"
          }
        }
      ]
    }
  ]
}